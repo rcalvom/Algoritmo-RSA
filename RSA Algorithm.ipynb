{
 "cells": [
  {
   "cell_type": "markdown",
   "metadata": {},
   "source": [
    "# Sistema criptográfico RSA (Rivest, Shamir y Adleman).\n",
    "## Autor: Ricardo Andrés Calvo Méndez"
   ]
  },
  {
   "cell_type": "markdown",
   "metadata": {},
   "source": [
    "Este sistema criptográfico de clave pública es el más utilizado en el proceso de firmado digital, se caracteríza por ultiliza el problema de factorización de números enteros muy grandes como principal medida de seguridad. Cuando se desea el envío de un mensaje, el emisor debe buscar la clave pública para cifrar con esta el mensaje y posterior a esto el receptor desencripta el mensaje haciendo uso de la clave privada, la cual no debe compartirse por ningún motivo para preservar la seguridad."
   ]
  },
  {
   "cell_type": "markdown",
   "metadata": {},
   "source": [
    "El paradigma de la computación cuántica ha estado en proceso de desarrollo durante los ultimos años, pero actualmente ya se cuantan con algoritmos que pueden factorizar en un tiempo razonable los grandes números de la clave publica y privada. Se espera que en los próximos años existan más algoritmos cuánticos que solucionen el problema convirtiendo el sistema RSA en un sistema obsoleto."
   ]
  },
  {
   "cell_type": "markdown",
   "metadata": {},
   "source": [
    "***\n"
   ]
  },
  {
   "cell_type": "markdown",
   "metadata": {},
   "source": [
    "### ¿Cómo implementar este sistema de encriptación?"
   ]
  },
  {
   "cell_type": "markdown",
   "metadata": {},
   "source": [
    "***"
   ]
  },
  {
   "cell_type": "markdown",
   "metadata": {},
   "source": [
    "#### Generación de claves pública y privada."
   ]
  },
  {
   "cell_type": "markdown",
   "metadata": {},
   "source": [
    "Para la generación de la clave publica y privada se siguen los siguientes pasos:"
   ]
  },
  {
   "cell_type": "markdown",
   "metadata": {},
   "source": [
    "1. Se elijen dos números primos $p$ y $q$ diferentes, entre más grandes sean los dos números mas dificil será el proceso de factorización.\n",
    "2. Se calcula en número $n$ como el producto de los números $p$ y $q$. ($n = pq$)\n",
    "3. Se calcula el valor de la función $\\phi(n)$ de Euler.\n",
    "4. Se escoje un número $e \\in \\mathbb{Z}^{+}$ menor que $\\phi(n)$ que sea primo relativo con este ($MCD(e, \\phi(n)) = 1$).\n",
    "5. Finalmente se determina un número $d$ que satisfaga $e \\cdot d \\equiv 1 \\mod{\\phi(n)}$"
   ]
  },
  {
   "cell_type": "markdown",
   "metadata": {},
   "source": [
    "La clave pública corresponde a la dupla $(n,e)$ donde $n$ es el modulo y $e$ es el exponente de cifrado, por otra parte la clave privada es la dupla $(n,d)$ donde ahora $d$ es el exponente de descifrado. Ahora se tienen dos procedimientos, la encriptacion y la desencriptación los cuales solo se puden hacer con el conocimiento de tanto la clave pública como de la clave privada."
   ]
  },
  {
   "cell_type": "markdown",
   "metadata": {},
   "source": [
    "***"
   ]
  },
  {
   "cell_type": "markdown",
   "metadata": {},
   "source": [
    "#### Encriptación"
   ]
  },
  {
   "cell_type": "markdown",
   "metadata": {},
   "source": [
    "Para el cifrado se requiere el uso de la clave pública, esta debe ser enviada por el receptor al emisor, la clave privada debe ser guardada en total secreto por el receptor. Suponiendo que el mensaje a enviar es $m$ con $m < n$ y $MCD(m, n) = 1$, el emisor debe calcular un valor $c$ que cumpla lo siguiente:"
   ]
  },
  {
   "cell_type": "markdown",
   "metadata": {},
   "source": [
    "<center>$c\\equiv m^{e}\\mod{n}$</center>"
   ]
  },
  {
   "cell_type": "markdown",
   "metadata": {},
   "source": [
    "Este será el mensaje que el emisor le envía al receptor."
   ]
  },
  {
   "cell_type": "markdown",
   "metadata": {},
   "source": [
    "***"
   ]
  },
  {
   "cell_type": "markdown",
   "metadata": {},
   "source": [
    "#### Desencriptación"
   ]
  },
  {
   "cell_type": "markdown",
   "metadata": {},
   "source": [
    "Finalmente el receptor puede recuperar el mensaje $m$ usando la clave privada en la siguiente operación."
   ]
  },
  {
   "cell_type": "markdown",
   "metadata": {},
   "source": [
    "<center>$m \\equiv c^{d}\\mod{n}$</center>"
   ]
  },
  {
   "cell_type": "markdown",
   "metadata": {},
   "source": [
    "De esta manerá el mensaje fue correctamente desencriptado."
   ]
  },
  {
   "cell_type": "markdown",
   "metadata": {},
   "source": [
    "***"
   ]
  },
  {
   "cell_type": "markdown",
   "metadata": {},
   "source": [
    "### ¿Por qué funciona?"
   ]
  },
  {
   "cell_type": "markdown",
   "metadata": {},
   "source": [
    "***"
   ]
  },
  {
   "cell_type": "code",
   "execution_count": null,
   "metadata": {},
   "outputs": [],
   "source": []
  },
  {
   "cell_type": "markdown",
   "metadata": {},
   "source": [
    "***"
   ]
  },
  {
   "cell_type": "markdown",
   "metadata": {},
   "source": [
    "### Ejemplo e implementación del algorítmo"
   ]
  },
  {
   "cell_type": "markdown",
   "metadata": {},
   "source": [
    "***"
   ]
  },
  {
   "cell_type": "code",
   "execution_count": null,
   "metadata": {},
   "outputs": [],
   "source": []
  }
 ],
 "metadata": {
  "kernelspec": {
   "display_name": "Python 3",
   "language": "python",
   "name": "python3"
  },
  "language_info": {
   "codemirror_mode": {
    "name": "ipython",
    "version": 3
   },
   "file_extension": ".py",
   "mimetype": "text/x-python",
   "name": "python",
   "nbconvert_exporter": "python",
   "pygments_lexer": "ipython3",
   "version": "3.7.3"
  }
 },
 "nbformat": 4,
 "nbformat_minor": 2
}
