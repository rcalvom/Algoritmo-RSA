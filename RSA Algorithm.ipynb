{
 "cells": [
  {
   "cell_type": "markdown",
   "metadata": {},
   "source": [
    "# Sistema criptográfico RSA (Rivest, Shamir y Adleman).\n",
    "## Autor: Ricardo Andrés Calvo Méndez"
   ]
  },
  {
   "cell_type": "markdown",
   "metadata": {},
   "source": [
    "Este sistema criptográfico de clave pública es el más utilizado en el proceso de firmado digital, se caracteríza por ultiliza el problema de factorización de números enteros muy grandes como principal medida de seguridad. Cuando se desea el envío de un mensaje, el emisor debe buscar la clave pública para cifrar con esta el mensaje y posterior a esto el receptor desencripta el mensaje haciendo uso de la clave privada, la cual no debe compartirse por ningún motivo para preservar la seguridad."
   ]
  },
  {
   "cell_type": "markdown",
   "metadata": {},
   "source": [
    "El paradigma de la computación cuántica ha estado en proceso de desarrollo durante los ultimos años, pero actualmente ya se cuantan con algoritmos que pueden factorizar en un tiempo razonable los grandes números de la clave publica y privada. Se espera que en los próximos años existan más algoritmos cuánticos que solucionen el problema convirtiendo el sistema RSA en un sistema obsoleto."
   ]
  },
  {
   "cell_type": "markdown",
   "metadata": {},
   "source": [
    "***\n"
   ]
  },
  {
   "cell_type": "markdown",
   "metadata": {},
   "source": [
    "### ¿Cómo implementar este sistema de encriptación?"
   ]
  },
  {
   "cell_type": "markdown",
   "metadata": {},
   "source": [
    "***"
   ]
  },
  {
   "cell_type": "markdown",
   "metadata": {},
   "source": [
    "#### Generación de claves pública y privada."
   ]
  },
  {
   "cell_type": "markdown",
   "metadata": {},
   "source": [
    "Para la generación de la clave publica y privada se siguen los siguientes pasos:"
   ]
  },
  {
   "cell_type": "markdown",
   "metadata": {},
   "source": [
    "1. Se elijen dos números primos $p$ y $q$ diferentes, entre más grandes sean los dos números mas dificil será el proceso de factorización.\n",
    "2. Se calcula en número $n$ como el producto de los números $p$ y $q$. ($n = pq$)\n",
    "3. Se calcula el valor de la función $\\phi(n)$ de Euler.\n",
    "4. Se escoje un número $e \\in \\mathbb{Z}^{+}$ menor que $\\phi(n)$ que sea primo relativo con este ($MCD(e, \\phi(n)) = 1$).\n",
    "5. Finalmente se determina un número $d$ que satisfaga $e \\cdot d \\equiv 1 \\mod{\\phi(n)}$"
   ]
  },
  {
   "cell_type": "markdown",
   "metadata": {},
   "source": [
    "La clave pública corresponde a la dupla $(n,e)$ donde $n$ es el modulo y $e$ es el exponente de cifrado, por otra parte la clave privada será la dupla $(n,d)$ donde ahora $d$ es el exponente de descifrado. Ahora se tienen dos procedimientos, la encriptación y la desencriptación los cuales solo se puden hacer con el conocimiento de tanto la clave pública como de la clave privada."
   ]
  },
  {
   "cell_type": "markdown",
   "metadata": {},
   "source": [
    "***"
   ]
  },
  {
   "cell_type": "markdown",
   "metadata": {},
   "source": [
    "#### Encriptación"
   ]
  },
  {
   "cell_type": "markdown",
   "metadata": {},
   "source": [
    "Para el cifrado se requiere el uso de la clave pública, esta debe ser enviada por el receptor al emisor, la clave privada debe ser guardada en total secreto por el receptor. Suponiendo que el mensaje a enviar es $m$ con $m < n$ y $MCD(m, n) = 1$, el emisor debe calcular un valor $c$ que cumpla lo siguiente:"
   ]
  },
  {
   "cell_type": "markdown",
   "metadata": {},
   "source": [
    "<center>$c\\equiv m^{e}\\mod{n}$</center>"
   ]
  },
  {
   "cell_type": "markdown",
   "metadata": {},
   "source": [
    "Este será el mensaje que el emisor le envía al receptor."
   ]
  },
  {
   "cell_type": "markdown",
   "metadata": {},
   "source": [
    "***"
   ]
  },
  {
   "cell_type": "markdown",
   "metadata": {},
   "source": [
    "#### Desencriptación"
   ]
  },
  {
   "cell_type": "markdown",
   "metadata": {},
   "source": [
    "Finalmente el receptor puede recuperar el mensaje $m$ usando la clave privada en la siguiente operación."
   ]
  },
  {
   "cell_type": "markdown",
   "metadata": {},
   "source": [
    "<center>$m \\equiv c^{d}\\mod{n}$</center>"
   ]
  },
  {
   "cell_type": "markdown",
   "metadata": {},
   "source": [
    "De esta manerá el mensaje fue correctamente desencriptado."
   ]
  },
  {
   "cell_type": "markdown",
   "metadata": {},
   "source": [
    "***"
   ]
  },
  {
   "cell_type": "markdown",
   "metadata": {},
   "source": [
    "### ¿Por qué funciona?"
   ]
  },
  {
   "cell_type": "markdown",
   "metadata": {},
   "source": [
    "***"
   ]
  },
  {
   "cell_type": "markdown",
   "metadata": {},
   "source": [
    "En el proceso de generación de claves, se utiliza el modulo ($n$) el cual se sabe que es producto de dos números primos ($p$ y $q$), factorizar el número $n$ requiere un costo computacional muy grande y en esto es lo que radica la seguridad de este algoritmo. la recuperación del mensaje a través del uso de las llaves pública y privada es posible gracias a las propiedades de la aritmética modular en el campo de la matemática discreta."
   ]
  },
  {
   "cell_type": "markdown",
   "metadata": {},
   "source": [
    "Utilizando las propiedades de la función de Euler, el Teorema de Euler y el Teorema del resto chino, se puede demostrar el siguiente lema:"
   ]
  },
  {
   "cell_type": "markdown",
   "metadata": {},
   "source": [
    "<center>$x \\equiv x^{ed}\\mod{n}, \\forall x \\in \\mathbb{Z}_{n}$</center>"
   ]
  },
  {
   "cell_type": "markdown",
   "metadata": {},
   "source": [
    "Donde $e$ es el exponente de cifrado, $d$ es el exponente de descifrado y $n$ es el módulo de la encriptación ($n = p \\cdot q$)"
   ]
  },
  {
   "cell_type": "markdown",
   "metadata": {},
   "source": [
    "Cuando se encripta el mensaje $m$ y se envía el código $c$, se tiene garantizado que $c\\equiv m^{e}\\mod{n}$ y al momento de de desencriptar se tiene la siguiente operación:"
   ]
  },
  {
   "cell_type": "markdown",
   "metadata": {},
   "source": [
    "<center>\n",
    "    $c \\equiv m^e \\mod{n}$ <br/>\n",
    "    $c^{d} \\equiv m^{ed} \\mod{n}$\n",
    "</center>"
   ]
  },
  {
   "cell_type": "markdown",
   "metadata": {},
   "source": [
    "Pero utilizando el lema, se sabe que $m = c^d$ y así queda demostrado que la clave privada sirve perfectamente para recuperar el mensaje después de ser encriptado usando la clave pública."
   ]
  },
  {
   "cell_type": "markdown",
   "metadata": {},
   "source": [
    "***"
   ]
  },
  {
   "cell_type": "markdown",
   "metadata": {},
   "source": [
    "### Ejemplo e implementación del algorítmo"
   ]
  },
  {
   "cell_type": "markdown",
   "metadata": {},
   "source": [
    "***"
   ]
  },
  {
   "cell_type": "markdown",
   "metadata": {},
   "source": [
    "Este algoritmo se va a implementar mediante el lenguaje Python. Inicialmente se tendrá un método *main*, varios métodos con operaciones independientes y dos clases: *PublicKey* y *PrivateKey*. Estas dos últimas clases se definen de la siguiente manera:"
   ]
  },
  {
   "cell_type": "markdown",
   "metadata": {},
   "source": [
    "#### Clase *PublicKey*"
   ]
  },
  {
   "cell_type": "code",
   "execution_count": 1,
   "metadata": {},
   "outputs": [],
   "source": [
    "class PublicKey:\n",
    "\n",
    "    def __init__(self, module, exponent):\n",
    "        self.module = module\n",
    "        self.exponent = exponent"
   ]
  },
  {
   "cell_type": "markdown",
   "metadata": {},
   "source": [
    "#### Clase *Privatekey*"
   ]
  },
  {
   "cell_type": "code",
   "execution_count": 2,
   "metadata": {},
   "outputs": [],
   "source": [
    "class PrivateKey:\n",
    "\n",
    "    def __init__(self, module, exponent):\n",
    "        self.module = module\n",
    "        self.exponent = exponent"
   ]
  },
  {
   "cell_type": "markdown",
   "metadata": {},
   "source": [
    "Ahora se deben escojer dos números primos $p$ y $q$, estos no deben tener una diferencia muy pequeña ya que la *Factorización de Fermat* sería un método sencillo para factorizar dichos números. En la práctica se utilizan números de alrededor 300 digitos, pero para este ejemplo se elegirán primos aleatorios de 4 digitos, Para ello se utilizará el *Test de primalidad de Fermat*."
   ]
  },
  {
   "cell_type": "markdown",
   "metadata": {},
   "source": [
    "#### Test de primalidad de Fermat."
   ]
  },
  {
   "cell_type": "code",
   "execution_count": 3,
   "metadata": {},
   "outputs": [],
   "source": [
    "k = 20"
   ]
  },
  {
   "cell_type": "code",
   "execution_count": 4,
   "metadata": {},
   "outputs": [],
   "source": [
    "from random import randint\n",
    "\n",
    "def fermat_test(value):\n",
    "    for i in range(1, k):\n",
    "        a = randint(2, value - 1)\n",
    "        if pow(a, value - 1, value) != 1:\n",
    "            return False\n",
    "    return True"
   ]
  },
  {
   "cell_type": "markdown",
   "metadata": {},
   "source": [
    "Es esta función $k$ indicará la cantidad de veces que se realizará el test sobre el número dado *value*, si un este pasa las $k$ veces el test, se tomará como primo. Cuanto más grande sea $k$, se podrá confiar más que el número dado es primo.\n",
    "La complejidad del algoritmo es $O(k)$, por lo que una cantidad muy grande de comprobaciones supondrá un alto costo computacional."
   ]
  },
  {
   "cell_type": "markdown",
   "metadata": {},
   "source": [
    "Este test funciona gracias al *Pequeño Teorema de Fermat* el cual se enuncia de la siguiente manera:"
   ]
  },
  {
   "cell_type": "markdown",
   "metadata": {},
   "source": [
    "#### Pequeño Teorema de Fermat."
   ]
  },
  {
   "cell_type": "markdown",
   "metadata": {},
   "source": [
    "<center>$ a^{p-1} \\equiv 1 \\mod{p} $</center>"
   ]
  },
  {
   "cell_type": "markdown",
   "metadata": {},
   "source": [
    "Para todo $a \\in \\mathbb{N}$ y para todo $p$ número prímo."
   ]
  },
  {
   "cell_type": "markdown",
   "metadata": {},
   "source": [
    "Todos los números primos cumplen esa propiedad pero eso **NO** implica que algunos números compuestos no puedan cumplir la congruencia modular para algunos valores especificos de $a$, es por esto que al hacer $k$ pruebas, se pueden descartar dichos números compuestos."
   ]
  },
  {
   "cell_type": "markdown",
   "metadata": {},
   "source": [
    "Ahora se generarán primos aleatorios usando la siguiente función:"
   ]
  },
  {
   "cell_type": "code",
   "execution_count": 5,
   "metadata": {},
   "outputs": [],
   "source": [
    "def random_prime(magnitude_order):\n",
    "    flag = False\n",
    "    while not flag:\n",
    "        n = randint(pow(10, magnitude_order - 1), pow(10, magnitude_order))\n",
    "        flag = fermat_test(n)\n",
    "    return n"
   ]
  },
  {
   "cell_type": "markdown",
   "metadata": {},
   "source": [
    "El argumento *magnitude_order* indicará el orden de magnitud de los primos a generar. A continuación se ejecuta la función sin olvidar que $q$ y $q$ deben ser diferentes."
   ]
  },
  {
   "cell_type": "code",
   "execution_count": 6,
   "metadata": {},
   "outputs": [],
   "source": [
    "magnitude_order = 4"
   ]
  },
  {
   "cell_type": "code",
   "execution_count": 7,
   "metadata": {},
   "outputs": [
    {
     "name": "stdout",
     "output_type": "stream",
     "text": [
      "p = 3733\n"
     ]
    }
   ],
   "source": [
    "p = random_prime(magnitude_order)\n",
    "print(\"p =\", p)"
   ]
  },
  {
   "cell_type": "code",
   "execution_count": 8,
   "metadata": {},
   "outputs": [
    {
     "name": "stdout",
     "output_type": "stream",
     "text": [
      "q = 5479\n"
     ]
    }
   ],
   "source": [
    "while True:\n",
    "    q = random_prime(magnitude_order)\n",
    "    if p != q:\n",
    "        break\n",
    "print(\"q =\", q)"
   ]
  },
  {
   "cell_type": "markdown",
   "metadata": {},
   "source": [
    "Bien, ya con los números primos generados se va a calcular el valor de $n$ o del módulo."
   ]
  },
  {
   "cell_type": "code",
   "execution_count": 9,
   "metadata": {},
   "outputs": [
    {
     "name": "stdout",
     "output_type": "stream",
     "text": [
      "n = 20453107\n"
     ]
    }
   ],
   "source": [
    "n = p * q\n",
    "print(\"n =\", n)"
   ]
  },
  {
   "cell_type": "markdown",
   "metadata": {},
   "source": [
    "A continuación se calculará el valor de $\\phi (n)$ (El cual será utilizado para calcular los exponentes de cifrado y descifrado), para ello se utilizarán dos propiedades de dicha función:"
   ]
  },
  {
   "cell_type": "markdown",
   "metadata": {},
   "source": [
    "**1:** Si $p$ es un número primo, entonces $\\phi(p) = p-1$"
   ]
  },
  {
   "cell_type": "markdown",
   "metadata": {},
   "source": [
    "**2:** Si $p$ y $q$ son primos relativos, entonces $\\phi(pq) = \\phi(p)\\phi(q)$"
   ]
  },
  {
   "cell_type": "markdown",
   "metadata": {},
   "source": [
    "Cómo $n$ es producto de dos números primos, se sabe que $\\phi(n) = (p-1)(q-1)$"
   ]
  },
  {
   "cell_type": "code",
   "execution_count": 10,
   "metadata": {},
   "outputs": [
    {
     "name": "stdout",
     "output_type": "stream",
     "text": [
      "Phi(n) =  20443896\n"
     ]
    }
   ],
   "source": [
    "phi_n = (p-1)*(q-1)\n",
    "print(\"Phi(n) = \", phi_n)"
   ]
  },
  {
   "cell_type": "markdown",
   "metadata": {},
   "source": [
    "En este punto se deben calcular los exponentes de cifrado y descifrado. Para el exponente de cifrado ($e$) se debe elegir un número aleatorio que sea primo relativo con $\\phi(n)$, en pocas palabras, que $MCD(e, \\phi(n)) = 1$. Para el calculo de este máximo común divisor se utilizará el *Algoritmo de Euclides*."
   ]
  },
  {
   "cell_type": "markdown",
   "metadata": {},
   "source": [
    "#### Algoritmo de Euclides."
   ]
  },
  {
   "cell_type": "code",
   "execution_count": 11,
   "metadata": {},
   "outputs": [],
   "source": [
    "def euclidean_algorithm(a, b):\n",
    "    if a < b:\n",
    "        temp = a\n",
    "        a = b\n",
    "        b = temp\n",
    "    while True:\n",
    "        int(a / b)\n",
    "        remainder = a % b\n",
    "        a = b\n",
    "        b = remainder\n",
    "        if remainder <= 0:\n",
    "            return a"
   ]
  },
  {
   "cell_type": "markdown",
   "metadata": {},
   "source": [
    "Este algoritmo descrito por primera vez por Euclides es muy eficiente $O(\\log{ab})$ y se aprovecha de la siguiente propiedad:"
   ]
  },
  {
   "cell_type": "markdown",
   "metadata": {},
   "source": [
    "Sea $a,b \\in \\mathbb{N}$ con $a \\geq b$ y $a = b \\cdot c + r$ entonces:"
   ]
  },
  {
   "cell_type": "markdown",
   "metadata": {},
   "source": [
    "<center> $MCD(a , b) = MCD(b, r)$ </center>"
   ]
  },
  {
   "cell_type": "markdown",
   "metadata": {},
   "source": [
    "En pocas palabras, el máximo común divisor entre dos números es igual a el máximo común divisor entre el mas pequeño de ellos y el residuo de su cociente."
   ]
  },
  {
   "cell_type": "markdown",
   "metadata": {},
   "source": [
    "Es así como se comprueba eficientemente que un número aleatorio $e$ sea primo relativo con $\\phi(n)$. Para generar el exponente de cifrado se utilizará la siguiente función:"
   ]
  },
  {
   "cell_type": "code",
   "execution_count": 12,
   "metadata": {},
   "outputs": [],
   "source": [
    "def encrypt_exponent(phi_n):\n",
    "    while True:\n",
    "        e = randint(2, phi_n - 1)\n",
    "        if euclidean_algorithm(e, phi_n) == 1:\n",
    "            return e"
   ]
  },
  {
   "cell_type": "markdown",
   "metadata": {},
   "source": [
    "Generando $e$ se tiene lo siguente:"
   ]
  },
  {
   "cell_type": "code",
   "execution_count": 13,
   "metadata": {},
   "outputs": [
    {
     "name": "stdout",
     "output_type": "stream",
     "text": [
      "e =  3228053\n"
     ]
    }
   ],
   "source": [
    "e = encrypt_exponent(phi_n)\n",
    "print(\"e = \", e)"
   ]
  },
  {
   "cell_type": "markdown",
   "metadata": {},
   "source": [
    "Ahora solo queda generar el exponente de descifrado ($d$) y para ello se requiere del uso del *Algoritmo extendido de Euclides*. El principio de este es el mismo que el anterior, pero la extensión se basa en el calculo del máximo común divisor como una *combinación lineal*. En el algoritmo se debe guardar cada paso a paso de la busqueda del máximo común divisor para luego usar esa información y encontrar la combinación lineal deseada."
   ]
  },
  {
   "cell_type": "markdown",
   "metadata": {},
   "source": [
    "#### Algoritmo externido de Euclides."
   ]
  },
  {
   "cell_type": "code",
   "execution_count": 14,
   "metadata": {},
   "outputs": [],
   "source": [
    "def extended_euclidean_algorithm(number, module):\n",
    "    processes = []\n",
    "    d = 0\n",
    "    while True:\n",
    "        processes.append([])\n",
    "        processes[len(processes) - 1].append(module)\n",
    "        processes[len(processes) - 1].append(number)\n",
    "        quotient = int(module / number)\n",
    "        processes[len(processes) - 1].append(quotient)\n",
    "        remainder = module % number\n",
    "        processes[len(processes) - 1].append(remainder)\n",
    "        module = number\n",
    "        number = remainder\n",
    "        if remainder <= 0:\n",
    "            break\n",
    "    basis_a = processes[len(processes)-2][0]\n",
    "    factor_a = 1\n",
    "    factor_b = -processes[len(processes)-2][2]\n",
    "    i = 3\n",
    "    while len(processes) - i >= -1:\n",
    "        basis_b = basis_a\n",
    "        factor_a = factor_b\n",
    "        basis_a = processes[len(processes) - i][0]\n",
    "        factor_b = int((1 - basis_a * factor_a)/basis_b)\n",
    "        i = i + 1\n",
    "    return factor_a"
   ]
  },
  {
   "cell_type": "markdown",
   "metadata": {},
   "source": [
    "Este algorítmo funciona para el calculo de $d$ ya que se desea encontrar el inverso multiplicativo modular de $e$ respecto a el módulo $\\phi(n)$. Esto se hace teniendo en cuenta la siguiente propiedad:"
   ]
  },
  {
   "cell_type": "markdown",
   "metadata": {},
   "source": [
    "Sea $d$ el inverso multiplicativo modular de $e$, es decir:"
   ]
  },
  {
   "cell_type": "markdown",
   "metadata": {},
   "source": [
    "<center>$e \\cdot d \\equiv 1 \\mod{\\phi(n)}$</center>"
   ]
  },
  {
   "cell_type": "markdown",
   "metadata": {},
   "source": [
    "Y sabiendo por propiedades del algoritmo de Euclides que:"
   ]
  },
  {
   "cell_type": "markdown",
   "metadata": {},
   "source": [
    "<center>$ 1 = x\\cdot e + y\\cdot \\phi(n) $</center>"
   ]
  },
  {
   "cell_type": "markdown",
   "metadata": {},
   "source": [
    "Se puede afirmar que:"
   ]
  },
  {
   "cell_type": "markdown",
   "metadata": {},
   "source": [
    "<center>$d = x$</center>"
   ]
  },
  {
   "cell_type": "markdown",
   "metadata": {},
   "source": [
    "Vale recordar que $e$ tiene inverso multiplicativo modular ya que $\\phi(n)$ y $e$ son primos relativos. (Esto es una equivalencia lógica, es decir, un número tiene inverso multiplicativo modular si y solo si ese número y el módulo son primos relativos)"
   ]
  },
  {
   "cell_type": "markdown",
   "metadata": {},
   "source": [
    "Para el calculo de $d$ se utlizará la siguiente función teniendo en cuenta que $d$ no puede ser menor que cero aunque el algoritmo extendido de Euclides arroje un valor negativo:"
   ]
  },
  {
   "cell_type": "code",
   "execution_count": 15,
   "metadata": {},
   "outputs": [],
   "source": [
    "def decrypt_exponent(e, phi_n):\n",
    "    d = extended_euclidean_algorithm(e, phi_n)\n",
    "    if d > 0:\n",
    "        return d\n",
    "    else:\n",
    "        return d + phi_n"
   ]
  },
  {
   "cell_type": "markdown",
   "metadata": {},
   "source": [
    "Calculando $d$ se tiene:"
   ]
  },
  {
   "cell_type": "code",
   "execution_count": 16,
   "metadata": {},
   "outputs": [
    {
     "name": "stdout",
     "output_type": "stream",
     "text": [
      "d =  16755005\n"
     ]
    }
   ],
   "source": [
    "d = decrypt_exponent(e, phi_n)\n",
    "print(\"d = \", d)"
   ]
  },
  {
   "cell_type": "markdown",
   "metadata": {},
   "source": [
    "Ahora solo queda definir las claves pública y privada. En el caso de la clave pública, esta será el par $(n, e)$"
   ]
  },
  {
   "cell_type": "code",
   "execution_count": 17,
   "metadata": {},
   "outputs": [
    {
     "name": "stdout",
     "output_type": "stream",
     "text": [
      "Clave pública: (20453107, 3228053)\n"
     ]
    }
   ],
   "source": [
    "public_key = PublicKey(n, e)\n",
    "print(\"Clave pública: (\" + str(public_key.module) + \", \" + str(public_key.exponent) + \")\")"
   ]
  },
  {
   "cell_type": "markdown",
   "metadata": {},
   "source": [
    "Y la clave privada será el par $(n, d)$"
   ]
  },
  {
   "cell_type": "code",
   "execution_count": 18,
   "metadata": {},
   "outputs": [
    {
     "name": "stdout",
     "output_type": "stream",
     "text": [
      "Clave privada: (20453107, 16755005)\n"
     ]
    }
   ],
   "source": [
    "private_key = PrivateKey(n, d)\n",
    "print(\"Clave privada: (\" + str(private_key.module) + \", \" + str(private_key.exponent) + \")\")"
   ]
  },
  {
   "cell_type": "markdown",
   "metadata": {},
   "source": [
    "****"
   ]
  },
  {
   "cell_type": "markdown",
   "metadata": {},
   "source": [
    "Ahora se va a elegir una cadena de caracteres como mensaje a enviar, como este algoritmo solo puede enviar números, se va a convertir cada caracter a su equivalente en la secuencia ASCII; se va a encriptar cada caracter de la cadena por separado usando la *clave pública* y así envíar un codigo encriptado por cada caracter."
   ]
  },
  {
   "cell_type": "code",
   "execution_count": 19,
   "metadata": {},
   "outputs": [],
   "source": [
    "m = \"Discrete Math\""
   ]
  },
  {
   "cell_type": "code",
   "execution_count": 20,
   "metadata": {},
   "outputs": [
    {
     "name": "stdout",
     "output_type": "stream",
     "text": [
      "c[1] = 8841774\n",
      "c[2] = 11078965\n",
      "c[3] = 7630765\n",
      "c[4] = 11741881\n",
      "c[5] = 18277371\n",
      "c[6] = 2314158\n",
      "c[7] = 14595009\n",
      "c[8] = 2314158\n",
      "c[9] = 2823535\n",
      "c[10] = 7807431\n",
      "c[11] = 18765285\n",
      "c[12] = 14595009\n",
      "c[13] = 8700012\n"
     ]
    }
   ],
   "source": [
    "c_list = []\n",
    "for a in m:\n",
    "    c_list.append(pow(ord(a), public_key.exponent, public_key.module))\n",
    "i = 1;\n",
    "for c in c_list:\n",
    "    print(\"c[\" + str(i) + \"] = \" + str(c))\n",
    "    i = i + 1"
   ]
  },
  {
   "cell_type": "markdown",
   "metadata": {},
   "source": [
    "Aqui se utilizó la operación de encriptación, es decir, para cada caracter $a_i \\in m$ se encuentra un $c_i$ que satisface:"
   ]
  },
  {
   "cell_type": "markdown",
   "metadata": {},
   "source": [
    "<center>$ c_i \\equiv ASCCI(a_i)^{e} \\mod{n} $</center>"
   ]
  },
  {
   "cell_type": "markdown",
   "metadata": {},
   "source": [
    "Recordando que el par (n, e) corresponde a la clase pública la cual fue enviada previamente por el receptor al emisor."
   ]
  },
  {
   "cell_type": "markdown",
   "metadata": {},
   "source": [
    "Ahora, el emisor le envía al receptor la lista con todos los $c$ que corresponden a los caracteres encriptados. Ya con la lista en manos del receptor, este utiliza la *clave privada* para recuperar el mensaje original; hay que tener en cuenta que el receptor debe saber que el mensaje esta codificado según la secuencia ASCCI."
   ]
  },
  {
   "cell_type": "code",
   "execution_count": 21,
   "metadata": {},
   "outputs": [
    {
     "name": "stdout",
     "output_type": "stream",
     "text": [
      "Mensaje recuperado: Discrete Math\n"
     ]
    }
   ],
   "source": [
    "recovered_message = \"\"\n",
    "for c in c_list:\n",
    "    recovered_message += chr(pow(c, private_key.exponent, private_key.module))\n",
    "print(\"Mensaje recuperado:\", recovered_message)"
   ]
  },
  {
   "cell_type": "markdown",
   "metadata": {},
   "source": [
    "Para recuperar el mensaje se encontro para cada código $c_i$ un $m_i$ que safisface:"
   ]
  },
  {
   "cell_type": "markdown",
   "metadata": {},
   "source": [
    "<center>$ m_i \\equiv (c_i)^{d} \\mod{n} $</center>"
   ]
  },
  {
   "cell_type": "markdown",
   "metadata": {},
   "source": [
    "Donde el par (n, d) correspondw a la clave privada. Ahora con los códigos ASCCI decada caracter, se recuperó la cadena aplicando la funcion inversa $ASCCI^{-1}(m_i) \\forall_{i}$ y concatenar."
   ]
  },
  {
   "cell_type": "markdown",
   "metadata": {},
   "source": [
    "***"
   ]
  }
 ],
 "metadata": {
  "kernelspec": {
   "display_name": "Python 3",
   "language": "python",
   "name": "python3"
  },
  "language_info": {
   "codemirror_mode": {
    "name": "ipython",
    "version": 3
   },
   "file_extension": ".py",
   "mimetype": "text/x-python",
   "name": "python",
   "nbconvert_exporter": "python",
   "pygments_lexer": "ipython3",
   "version": "3.7.3"
  }
 },
 "nbformat": 4,
 "nbformat_minor": 2
}
